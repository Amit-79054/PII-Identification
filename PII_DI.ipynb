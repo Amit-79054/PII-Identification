{
  "nbformat": 4,
  "nbformat_minor": 5,
  "metadata": {
    "colab": {
      "name": "PII DI.ipynb",
      "provenance": []
    },
    "kernelspec": {
      "display_name": "Python 3",
      "language": "python",
      "name": "python3"
    },
    "language_info": {
      "codemirror_mode": {
        "name": "ipython",
        "version": 3
      },
      "file_extension": ".py",
      "mimetype": "text/x-python",
      "name": "python",
      "nbconvert_exporter": "python",
      "pygments_lexer": "ipython3",
      "version": "3.7.9"
    }
  },
  "cells": [
    {
      "cell_type": "markdown",
      "metadata": {
        "id": "vocal-republican"
      },
      "source": [
        "# PII DI (Document Identification )"
      ],
      "id": "vocal-republican"
    },
    {
      "cell_type": "markdown",
      "metadata": {
        "id": "vanilla-linux"
      },
      "source": [
        "The first task here is to classify the unique government issued documents. Here is a list : \n",
        "\n",
        "1. Aadhaar card, a biometric, digital and physical identity system.\n",
        "2. Indian passport\n",
        "3. Overseas Passport\n",
        "4. Electoral Photo Identity Card (EPIC) issued by the Election Commission of India\n",
        "5. Permanent account number (PAN) card (income tax)\n",
        "6. Driving license in India issued by the states\n",
        "7. Ration card issued by the Government of India\n",
        "8. A Birth certificate issued by the Registry of Births and Deaths (RBD) or from a Municipality within the provisions of the RBD Act\n",
        "9. Policy Bond issued by Public Life Insurance Corpor\n",
        "10. Gas bill\n",
        "\n",
        "\n",
        "`Some Literature around it` : \n",
        "\n",
        "- https://analyticsindiamag.com/extraction-of-aadhar-ids-using-opencv-tensorflow-sushil-ostwal-head-data-science-at-motilal-oswal-financial-services/\n",
        "- https://medium.com/cashify-engineering/improve-accuracy-of-ocr-using-image-preprocessing-8df29ec3a033\n",
        "\n",
        "`Resource around installing pytesseract in Ubuntu`\n",
        "- https://www.linux.com/training-tutorials/using-tesseract-ubuntu/"
      ],
      "id": "vanilla-linux"
    },
    {
      "cell_type": "code",
      "metadata": {
        "id": "nominated-adaptation"
      },
      "source": [
        "import os\n",
        "from glob import glob\n",
        "import datetime\n",
        "import traceback"
      ],
      "id": "nominated-adaptation",
      "execution_count": null,
      "outputs": []
    },
    {
      "cell_type": "code",
      "metadata": {
        "colab": {
          "base_uri": "https://localhost:8080/"
        },
        "id": "legitimate-advocacy",
        "outputId": "9090303c-ac1c-4fe6-bf0e-e2386c46c020"
      },
      "source": [
        "!sudo apt install tesseract-ocr\n",
        "!sudo apt install libtesseract-dev\n",
        "!tesseract -v"
      ],
      "id": "legitimate-advocacy",
      "execution_count": null,
      "outputs": [
        {
          "name": "stdout",
          "output_type": "stream",
          "text": [
            "Reading package lists... Done\n",
            "Building dependency tree       \n",
            "Reading state information... Done\n",
            "The following additional packages will be installed:\n",
            "  tesseract-ocr-eng tesseract-ocr-osd\n",
            "The following NEW packages will be installed:\n",
            "  tesseract-ocr tesseract-ocr-eng tesseract-ocr-osd\n",
            "0 upgraded, 3 newly installed, 0 to remove and 17 not upgraded.\n",
            "Need to get 4,795 kB of archives.\n",
            "After this operation, 15.8 MB of additional disk space will be used.\n",
            "Get:1 http://archive.ubuntu.com/ubuntu bionic/universe amd64 tesseract-ocr-eng all 4.00~git24-0e00fe6-1.2 [1,588 kB]\n",
            "Get:2 http://archive.ubuntu.com/ubuntu bionic/universe amd64 tesseract-ocr-osd all 4.00~git24-0e00fe6-1.2 [2,989 kB]\n",
            "Get:3 http://archive.ubuntu.com/ubuntu bionic/universe amd64 tesseract-ocr amd64 4.00~git2288-10f4998a-2 [218 kB]\n",
            "Fetched 4,795 kB in 3s (1,565 kB/s)\n",
            "debconf: unable to initialize frontend: Dialog\n",
            "debconf: (No usable dialog-like program is installed, so the dialog based frontend cannot be used. at /usr/share/perl5/Debconf/FrontEnd/Dialog.pm line 76, <> line 3.)\n",
            "debconf: falling back to frontend: Readline\n",
            "debconf: unable to initialize frontend: Readline\n",
            "debconf: (This frontend requires a controlling tty.)\n",
            "debconf: falling back to frontend: Teletype\n",
            "dpkg-preconfigure: unable to re-open stdin: \n",
            "Selecting previously unselected package tesseract-ocr-eng.\n",
            "(Reading database ... 146425 files and directories currently installed.)\n",
            "Preparing to unpack .../tesseract-ocr-eng_4.00~git24-0e00fe6-1.2_all.deb ...\n",
            "Unpacking tesseract-ocr-eng (4.00~git24-0e00fe6-1.2) ...\n",
            "Selecting previously unselected package tesseract-ocr-osd.\n",
            "Preparing to unpack .../tesseract-ocr-osd_4.00~git24-0e00fe6-1.2_all.deb ...\n",
            "Unpacking tesseract-ocr-osd (4.00~git24-0e00fe6-1.2) ...\n",
            "Selecting previously unselected package tesseract-ocr.\n",
            "Preparing to unpack .../tesseract-ocr_4.00~git2288-10f4998a-2_amd64.deb ...\n",
            "Unpacking tesseract-ocr (4.00~git2288-10f4998a-2) ...\n",
            "Setting up tesseract-ocr-osd (4.00~git24-0e00fe6-1.2) ...\n",
            "Setting up tesseract-ocr-eng (4.00~git24-0e00fe6-1.2) ...\n",
            "Setting up tesseract-ocr (4.00~git2288-10f4998a-2) ...\n",
            "Processing triggers for man-db (2.8.3-2ubuntu0.1) ...\n",
            "Reading package lists... Done\n",
            "Building dependency tree       \n",
            "Reading state information... Done\n",
            "The following additional packages will be installed:\n",
            "  libleptonica-dev\n",
            "The following NEW packages will be installed:\n",
            "  libleptonica-dev libtesseract-dev\n",
            "0 upgraded, 2 newly installed, 0 to remove and 17 not upgraded.\n",
            "Need to get 2,755 kB of archives.\n",
            "After this operation, 13.8 MB of additional disk space will be used.\n",
            "Get:1 http://archive.ubuntu.com/ubuntu bionic/universe amd64 libleptonica-dev amd64 1.75.3-3 [1,308 kB]\n",
            "Get:2 http://archive.ubuntu.com/ubuntu bionic/universe amd64 libtesseract-dev amd64 4.00~git2288-10f4998a-2 [1,447 kB]\n",
            "Fetched 2,755 kB in 3s (1,030 kB/s)\n",
            "debconf: unable to initialize frontend: Dialog\n",
            "debconf: (No usable dialog-like program is installed, so the dialog based frontend cannot be used. at /usr/share/perl5/Debconf/FrontEnd/Dialog.pm line 76, <> line 2.)\n",
            "debconf: falling back to frontend: Readline\n",
            "debconf: unable to initialize frontend: Readline\n",
            "debconf: (This frontend requires a controlling tty.)\n",
            "debconf: falling back to frontend: Teletype\n",
            "dpkg-preconfigure: unable to re-open stdin: \n",
            "Selecting previously unselected package libleptonica-dev.\n",
            "(Reading database ... 146472 files and directories currently installed.)\n",
            "Preparing to unpack .../libleptonica-dev_1.75.3-3_amd64.deb ...\n",
            "Unpacking libleptonica-dev (1.75.3-3) ...\n",
            "Selecting previously unselected package libtesseract-dev.\n",
            "Preparing to unpack .../libtesseract-dev_4.00~git2288-10f4998a-2_amd64.deb ...\n",
            "Unpacking libtesseract-dev (4.00~git2288-10f4998a-2) ...\n",
            "Setting up libleptonica-dev (1.75.3-3) ...\n",
            "Setting up libtesseract-dev (4.00~git2288-10f4998a-2) ...\n",
            "tesseract 4.0.0-beta.1\n",
            " leptonica-1.75.3\n",
            "  libgif 5.1.4 : libjpeg 8d (libjpeg-turbo 1.5.2) : libpng 1.6.34 : libtiff 4.0.9 : zlib 1.2.11 : libwebp 0.6.1 : libopenjp2 2.3.0\n",
            "\n",
            " Found AVX2\n",
            " Found AVX\n",
            " Found SSE\n"
          ]
        }
      ]
    },
    {
      "cell_type": "code",
      "metadata": {
        "colab": {
          "base_uri": "https://localhost:8080/"
        },
        "id": "W98qpnNMBqG-",
        "outputId": "842c5847-0085-45fc-b492-b0a7e7f26aea"
      },
      "source": [
        "!pip install pytesseract\n",
        "import pytesseract"
      ],
      "id": "W98qpnNMBqG-",
      "execution_count": null,
      "outputs": [
        {
          "name": "stdout",
          "output_type": "stream",
          "text": [
            "Collecting pytesseract\n",
            "  Downloading https://files.pythonhosted.org/packages/a0/e6/a4e9fc8a93c1318540e8de6d8d4beb5749b7960388a7c7f27799fc2dd016/pytesseract-0.3.7.tar.gz\n",
            "Requirement already satisfied: Pillow in /usr/local/lib/python3.6/dist-packages (from pytesseract) (7.0.0)\n",
            "Building wheels for collected packages: pytesseract\n",
            "  Building wheel for pytesseract (setup.py) ... \u001b[?25l\u001b[?25hdone\n",
            "  Created wheel for pytesseract: filename=pytesseract-0.3.7-py2.py3-none-any.whl size=13945 sha256=85a0c1bb050d74198e618abc7a2d987f4abcf7ce60f6fb34164689cc5a3bd883\n",
            "  Stored in directory: /root/.cache/pip/wheels/81/20/7e/1dd0daad1575d5260916bb1e9781246430647adaef4b3ca3b3\n",
            "Successfully built pytesseract\n",
            "Installing collected packages: pytesseract\n",
            "Successfully installed pytesseract-0.3.7\n"
          ]
        }
      ]
    },
    {
      "cell_type": "code",
      "metadata": {
        "colab": {
          "base_uri": "https://localhost:8080/"
        },
        "id": "experienced-lightning",
        "outputId": "9a88bc0c-9715-4cc5-ed4a-455fbce642c4"
      },
      "source": [
        "from google.colab import drive\n",
        "drive.mount('/content/drive', force_remount=True)\n",
        "#drive.mount('/PII Project/data', force_remount=True)\n",
        "import os\n",
        "os.chdir('drive/MyDrive/PII Proejct')"
      ],
      "id": "experienced-lightning",
      "execution_count": null,
      "outputs": [
        {
          "name": "stdout",
          "output_type": "stream",
          "text": [
            "Mounted at /content/drive\n"
          ]
        }
      ]
    },
    {
      "cell_type": "code",
      "metadata": {
        "id": "attractive-sixth"
      },
      "source": [
        "### Using Easy OCR\n",
        "# import easyocr\n",
        "# reader = easyocr.Reader(['en']) "
      ],
      "id": "attractive-sixth",
      "execution_count": null,
      "outputs": []
    },
    {
      "cell_type": "code",
      "metadata": {
        "id": "talented-muslim"
      },
      "source": [
        "import cv2\n",
        "import numpy as np\n",
        "import tempfile\n",
        "from PIL import Image\n",
        "import imutils\n",
        "import pytesseract\n",
        "\n",
        "import matplotlib.pyplot as plt\n",
        "import pandas as pd\n"
      ],
      "id": "talented-muslim",
      "execution_count": null,
      "outputs": []
    },
    {
      "cell_type": "code",
      "metadata": {
        "id": "theoretical-delicious"
      },
      "source": [
        "# pytesseract.pytesseract.tesseract_cmd  = r'C:\\Program Files\\Tesseract-OCR\\tesseract'"
      ],
      "id": "theoretical-delicious",
      "execution_count": null,
      "outputs": []
    },
    {
      "cell_type": "code",
      "metadata": {
        "id": "modern-technician"
      },
      "source": [
        "### centric to pytesseract\n",
        "def tesseratc_engine(image):\n",
        "    custom_oem_psm_config = r'--oem 3 --psm 11'\n",
        "    return pytesseract.image_to_string(image, config=custom_oem_psm_config)\n",
        "\n",
        "def set_image_dpi(file_path):\n",
        "    im = Image.open(file_path)\n",
        "    length_x, width_y = im.size\n",
        "    factor = min(1, float(1024.0 / length_x))\n",
        "    size = int(factor * length_x), int(factor * width_y)\n",
        "    im_resized = im.resize(size, Image.ANTIALIAS)\n",
        "#     temp_file = tempfile.NamedTemporaryFile(delete=False,   suffix='.png')\n",
        "#     temp_filename = temp_file.name\n",
        "    im_resized.save('improved.png', dpi=(300, 300))\n",
        "#     return temp_filename\n",
        "\n",
        "\n",
        "def skew_correction(image):\n",
        "    try:\n",
        "        gray = cv2.cvtColor(image, cv2.COLOR_BGR2GRAY)\n",
        "        gray = cv2.GaussianBlur(gray, (5, 5), 0)\n",
        "        edged = cv2.Canny(gray, 10, 50)\n",
        "        cnts = cv2.findContours(edged.copy(), cv2.RETR_LIST, cv2.CHAIN_APPROX_SIMPLE)\n",
        "        cnts = cnts[0] #if imutils.is_cv2() else cnts[1]\n",
        "#         contours = contours[0] if imutils.is_cv2() else contours[1]\n",
        "        cnts = sorted(cnts, key=cv2.contourArea, reverse=True)[:5]\n",
        "        screenCnt = None\n",
        "        for c in cnts:\n",
        "            peri = cv2.arcLength(c, True)\n",
        "            approx = cv2.approxPolyDP(c, 0.02 * peri, True)\n",
        "            if len(approx) == 4:\n",
        "                screenCnt = approx\n",
        "                break\n",
        "\n",
        "        cv2.drawContours(image, [screenCnt], -1, (0, 255, 0), 2)\n",
        "    except Exception as e:\n",
        "        traceback.print_exc()\n",
        "        return image , cnts\n",
        "    return image, screenCnt\n",
        "\n",
        "def image_smoothening(img):\n",
        "    ret1, th1 = cv2.threshold(img, 88, 255, cv2.THRESH_BINARY)\n",
        "    ret2, th2 = cv2.threshold(th1, 0, 255, cv2.THRESH_BINARY + cv2.THRESH_OTSU)\n",
        "    blur = cv2.GaussianBlur(th2, (5, 5), 0)\n",
        "    ret3, th3 = cv2.threshold(blur, 0, 255, cv2.THRESH_BINARY + cv2.THRESH_OTSU)\n",
        "    return th3\n",
        "\n",
        "def remove_noise_and_smooth(img):\n",
        "    _, thresh = cv2.threshold(img, kmeans(input_img=img, k=8, i_val=2)[0], 255, cv2.THRESH_BINARY)\n",
        "#     filtered = cv2.adaptiveThreshold(img.astype(np.uint8), 255, cv2.ADAPTIVE_THRESH_MEAN_C, cv2.THRESH_BINARY, 9, 41)\n",
        "#     kernel = np.ones((1, 1), np.uint8)\n",
        "#     opening = cv2.morphologyEx(filtered, cv2.MORPH_OPEN, kernel)\n",
        "#     closing = cv2.morphologyEx(opening, cv2.MORPH_CLOSE, kernel)\n",
        "#     img = image_smoothening(img)\n",
        "#     or_image = cv2.bitwise_or(img, closing)\n",
        "    return thresh\n",
        "\n",
        "def kmeans(input_img, k, i_val):\n",
        "    hist = cv2.calcHist([input_img],[0],None,[256],[0,256])\n",
        "    img = input_img.ravel()\n",
        "    img = np.reshape(img, (-1, 1))\n",
        "    img = img.astype(np.float32)\n",
        "\n",
        "    criteria = (cv2.TERM_CRITERIA_EPS + cv2.TERM_CRITERIA_MAX_ITER, 10, 1.0)\n",
        "    flags = cv2.KMEANS_RANDOM_CENTERS\n",
        "    compactness,labels,centers = cv2.kmeans(img,k,None,criteria,10,flags)\n",
        "    centers = np.sort(centers, axis=0)\n",
        "\n",
        "    return centers[i_val].astype(int), centers, hist"
      ],
      "id": "modern-technician",
      "execution_count": null,
      "outputs": []
    },
    {
      "cell_type": "code",
      "metadata": {
        "colab": {
          "base_uri": "https://localhost:8080/",
          "height": 1000
        },
        "id": "caroline-prototype",
        "outputId": "cd0afc22-1682-45c4-e018-a9d11a7bdcb5"
      },
      "source": [
        "from glob import glob\n",
        "extract_text = dict()\n",
        "for file_path in glob(\"data/*.jpg\"):\n",
        "  \n",
        "    file_name = file_path.split(\"/\")[-1]\n",
        "    print (file_path, file_name)\n",
        "    img = set_image_dpi(file_path)\n",
        "    img = cv2.imread(\"improved.png\")\n",
        "    print (img.dtype)\n",
        "#     img, coord = skew_correction(img)\n",
        "    img = remove_noise_and_smooth(img[:,:,1])\n",
        "    result = tesseratc_engine(img)\n",
        "    extract_text[file_name] = result\n",
        "  \n",
        "  ##using easyocr\n",
        "# print (result)\n",
        "plt.imshow(img, cmap='gray')\n",
        "plt.show()\n",
        "print (result)"
      ],
      "id": "caroline-prototype",
      "execution_count": null,
      "outputs": [
        {
          "name": "stdout",
          "output_type": "stream",
          "text": [
            "data/3.jpg 3.jpg\n",
            "uint8\n",
            "data/7.jpg 7.jpg\n",
            "uint8\n",
            "data/4.jpg 4.jpg\n",
            "uint8\n",
            "data/1.jpg 1.jpg\n",
            "uint8\n",
            "data/6.jpg 6.jpg\n",
            "uint8\n",
            "data/2.jpg 2.jpg\n",
            "uint8\n",
            "data/5.jpg 5.jpg\n",
            "uint8\n",
            "data/Incorrect Name.jpg Incorrect Name.jpg\n",
            "uint8\n",
            "data/Incorrect details -1.jpg Incorrect details -1.jpg\n",
            "uint8\n",
            "data/No details extracted.jpg No details extracted.jpg\n",
            "uint8\n",
            "data/10049027336340_DrivingLicence.jpg 10049027336340_DrivingLicence.jpg\n",
            "uint8\n",
            "data/10006989389712_VoterID.jpg 10006989389712_VoterID.jpg\n",
            "uint8\n",
            "data/10018765037077_VoterID.jpg 10018765037077_VoterID.jpg\n",
            "uint8\n",
            "data/10057927394633_VoterID.jpg 10057927394633_VoterID.jpg\n",
            "uint8\n",
            "data/20024075943716_AadharCard.jpg 20024075943716_AadharCard.jpg\n",
            "uint8\n",
            "data/40089856771173_VoterID.jpg 40089856771173_VoterID.jpg\n",
            "uint8\n",
            "data/30056250280226_VoterID.jpg 30056250280226_VoterID.jpg\n",
            "uint8\n",
            "data/30052359236448_VoterID.jpg 30052359236448_VoterID.jpg\n",
            "uint8\n",
            "data/No details extracted - 2.jpg No details extracted - 2.jpg\n",
            "uint8\n",
            "data/Cropped.jpg Cropped.jpg\n",
            "uint8\n",
            "data/Voter9_Front.jpg Voter9_Front.jpg\n",
            "uint8\n",
            "data/Pratyoosh_Election1.jpg Pratyoosh_Election1.jpg\n",
            "uint8\n",
            "data/49_DLFront.jpg 49_DLFront.jpg\n",
            "uint8\n",
            "data/13.jpg 13.jpg\n",
            "uint8\n",
            "data/9.jpg 9.jpg\n",
            "uint8\n",
            "data/10.jpg 10.jpg\n",
            "uint8\n",
            "data/11.jpg 11.jpg\n",
            "uint8\n",
            "data/18.jpg 18.jpg\n",
            "uint8\n",
            "data/8.jpg 8.jpg\n",
            "uint8\n",
            "data/17.jpg 17.jpg\n",
            "uint8\n",
            "data/45.jpg 45.jpg\n",
            "uint8\n",
            "data/52.jpg 52.jpg\n",
            "uint8\n",
            "data/34.jpg 34.jpg\n",
            "uint8\n",
            "data/37.jpg 37.jpg\n",
            "uint8\n",
            "data/42.jpg 42.jpg\n",
            "uint8\n",
            "data/41.jpg 41.jpg\n",
            "uint8\n",
            "data/30.jpg 30.jpg\n",
            "uint8\n",
            "data/48.jpg 48.jpg\n",
            "uint8\n",
            "data/43.jpg 43.jpg\n",
            "uint8\n",
            "data/40.jpg 40.jpg\n",
            "uint8\n",
            "data/26.jpg 26.jpg\n",
            "uint8\n",
            "data/31.jpg 31.jpg\n",
            "uint8\n",
            "data/39.jpg 39.jpg\n",
            "uint8\n",
            "data/38.jpg 38.jpg\n",
            "uint8\n",
            "data/49.jpg 49.jpg\n",
            "uint8\n",
            "data/44.jpg 44.jpg\n",
            "uint8\n",
            "data/33.jpg 33.jpg\n",
            "uint8\n",
            "data/50.jpg 50.jpg\n",
            "uint8\n",
            "data/36.jpg 36.jpg\n",
            "uint8\n",
            "data/47.jpg 47.jpg\n",
            "uint8\n",
            "data/27.jpg 27.jpg\n",
            "uint8\n",
            "data/51.jpg 51.jpg\n",
            "uint8\n",
            "data/35.jpg 35.jpg\n",
            "uint8\n",
            "data/PAN-Card-Sample.jpg PAN-Card-Sample.jpg\n",
            "uint8\n",
            "data/gas bill 2.jpg gas bill 2.jpg\n",
            "uint8\n",
            "data/gas bill 3.jpg gas bill 3.jpg\n",
            "uint8\n",
            "data/gas bill 4.jpg gas bill 4.jpg\n",
            "uint8\n",
            "data/gas bill 5.jpg gas bill 5.jpg\n",
            "uint8\n",
            "data/gas bill 6.jpg gas bill 6.jpg\n",
            "uint8\n",
            "data/gas bill 7.jpg gas bill 7.jpg\n",
            "uint8\n",
            "data/gas bill 8.jpg gas bill 8.jpg\n",
            "uint8\n",
            "data/gas bill 9.jpg gas bill 9.jpg\n",
            "uint8\n",
            "data/gas bill 10.jpg gas bill 10.jpg\n",
            "uint8\n",
            "data/pp 1.jpg pp 1.jpg\n",
            "uint8\n",
            "data/pp 2.jpg pp 2.jpg\n",
            "uint8\n",
            "data/pp 7.jpg pp 7.jpg\n",
            "uint8\n",
            "data/pp 8.jpg pp 8.jpg\n",
            "uint8\n",
            "data/pp 4.jpg pp 4.jpg\n",
            "uint8\n",
            "data/pp 5.jpg pp 5.jpg\n",
            "uint8\n",
            "data/pp 10.jpg pp 10.jpg\n",
            "uint8\n",
            "data/gas bill 1.jpg gas bill 1.jpg\n",
            "uint8\n"
          ]
        },
        {
          "data": {
            "image/png": "[encoded data removed]",
            "text/plain": [
              "<Figure size 432x288 with 1 Axes>"
            ]
          },
          "metadata": {
            "tags": []
          },
          "output_type": "display_data"
        },
        {
          "name": "stdout",
          "output_type": "stream",
          "text": [
            "AKSHMI AP GAS AGENCY\n",
            "\n",
            "HERY MAIN ROAD, VELACHERY, CHENNAI - 600 042. Ph : 044-2243 4243 / 4855 5622\n",
            "\n",
            "DATE\n",
            "\n",
            "Damler-Cods 15401510 Total sooKns|” | UN DELIVERED cast MEMO |\n",
            "\n",
            "| CLEARED ue To\n",
            "\n",
            "i\n",
            "\n",
            "CYLINDER STOCK\n",
            "\n",
            "EMI\n",
            "\n",
            "ey\n",
            "\n",
            "DER STOCK\n",
            "\n",
            "REGULATOR STOCK\n",
            "\n",
            "+ GUBSDIZED C¥L LD (GATL CTC]\n",
            "\n",
            "142 KOE!\n",
            "\n",
            "ve!\n",
            "\n",
            "DER\n",
            "\n",
            "10\n",
            "\n",
            "Zi\n",
            "\n",
            "REGULATOR STOCK GOOD\n",
            "\n",
            "\"142 KG NON - SUBGIOMED CYLINDER\n",
            "\n",
            "iL\n",
            "\n",
            "19 KG EMPTY LPG CYLINDER\n",
            "\n",
            "REGULAIOR S10CK DF\n",
            "\n",
            "crow\n",
            "\n",
            "LPG CYLINDE:\n",
            "\n",
            "5G EMPTY IPG CYLINDER\n",
            "\n",
            "REGULATOR FOTAL\n",
            "\n",
            "‘SG FLLED LPO CYLNOER FTL)\n",
            "\n",
            "aL\n",
            "\n",
            "REGULATON (FTI)\n",
            "\n",
            "Sx\n",
            "\n",
            "5\n",
            "\n",
            "INDER (RELY\n",
            "\n",
            "~—_\n",
            "\n",
            "sawn 2857\n",
            "\n",
            "SECURITY DEPOSIT\n",
            "\n",
            "et et “Siar\n",
            "\n",
            "(036) 14.2 KG LPG CYLI\n",
            "\n",
            "DER\n",
            "\n",
            "bse\n",
            "\n",
            "AVAILABLE ARB PRODUCTS\n",
            "\n",
            "(047) REGULATOR\n",
            "\n",
            "1\n",
            "\n",
            "184) 19 KG LPG CY!\n",
            "\n",
            "NDER\n",
            "\n",
            "Vt00\n",
            "\n",
            "SURAKSHA TUBE\n",
            "\n",
            "ye.\n",
            "\n",
            "REFILL Cost\n",
            "\n",
            "LIGHTER\n",
            "\n",
            "ADVANTA\n",
            "\n",
            "te\n",
            "\n",
            ":\n",
            "\n",
            "242 KG Now SUBBDIFED C¥e.CO BTL! Cro}\n",
            "\n",
            "HP)\n",
            "\n",
            "| #42 kG NOW. suBsIDize0 CYLINDER\n",
            "\n",
            "wae\n",
            "\n",
            "SURYA FLAME\n",
            "\n",
            ")\n",
            "\n",
            "19 KG FILLEG LPG CYLINDER\n",
            "\n",
            "SUN FLAME\n",
            "\n",
            "5KG FILLED LPG CYLINDER (FTL)\n",
            "\n",
            "18m\n",
            "\n",
            "PIGEON\n",
            "\n",
            "NZ’\n",
            "\n",
            "vay\n",
            "\n",
            "BUTTERFLY\n",
            "\n",
            "ae.\n",
            "\n",
            "EKG FILLED LPG CVLINOER (AFL)\n",
            "\n",
            "HID 5m\n",
            "\n",
            "APRON\n",
            "\n",
            "NATURE OF SERVICES.\n",
            "\n",
            "IGAS|\n",
            "\n",
            "CHARGES,\n",
            "\n",
            "TROLLY\n",
            "\n",
            "‘Aden\n",
            "\n",
            "hare\n",
            "\n",
            "ring LPG C\n",
            "\n",
            "nar\n",
            "\n",
            "BE wo\n",
            "\n",
            "COOKER.\n",
            "\n",
            "3ur\n",
            "\n",
            "wie friendly exe\n",
            "\n",
            "COOKER.\n",
            "\n",
            "Sur\n",
            "\n",
            "(7aaror TAA\n",
            "\n",
            "01 & Damonatration Charge\n",
            "\n",
            "forncroBe | v8\n",
            "\n",
            "o\n",
            "\n",
            "COOKER,\n",
            "\n",
            "7.5L\n",
            "\n",
            "Mabie  maagt 06600\n",
            "\n",
            "Been\n",
            "\n",
            "tomar Card {acc}\n",
            "\n",
            "39 20\n",
            "\n",
            "COOKER.\n",
            "\n",
            "f\n",
            "\n",
            "eae\n",
            "\n",
            "IF\n",
            "\n",
            "Hat Pate inapection\n",
            "\n",
            "12h\n",
            "\n",
            "f\n",
            "\n",
            "-\n",
            "\n",
            "a\n",
            "\n",
            "TT\n",
            "\n",
            "GIFT Box\n",
            "\n",
            "r\n",
            "\n",
            "cn\n",
            "\n",
            "oh\n",
            "\f\n"
          ]
        }
      ]
    },
    {
      "cell_type": "code",
      "metadata": {
        "id": "awful-college"
      },
      "source": [
        "label = {'3.jpg' : 'aadhar',\n",
        "         '7.jpg' : 'aadhar',\n",
        "         '4.jpg' : 'aadhar',\n",
        "         '1.jpg' : 'aadhar',\n",
        "         '6.jpg' : 'aadhar',\n",
        "         '2.jpg' : 'aadhar',\n",
        "         '5.jpg' : 'aadhar',\n",
        "         'Incorrect Name.jpg' : 'Voter ID',\n",
        "         'Incorrect details -1.jpg' : 'Driving Licence',\n",
        "         'No details extracted.jpg' : 'Voter ID',\n",
        "         '10049027336340_DrivingLicence.jpg' : 'Driving Licence',\n",
        "         '10006989389712_VoterID.jpg' : 'Voter ID',\n",
        "         '10018765037077_VoterID.jpg' : 'Voter ID',\n",
        "         '10018657562676_VoterID.JPG' : 'Voter ID',\n",
        "         '10057927394633_VoterID.jpg' : 'Voter ID',\n",
        "         '20024075943716_AadharCard.jpg' : 'aadhar',\n",
        "         '40089856771173_VoterID.jpg' : 'Voter ID',\n",
        "         '30056250280226_VoterID.jpg' : 'Voter ID',\n",
        "         '30052359236448_VoterID.jpg' : 'Voter ID',\n",
        "         '10009952427392_VoterID.JPG' : 'Voter ID',\n",
        "         'No details extracted - 2.jpg' : 'Driving Licence',\n",
        "         'Cropped.jpg' : 'Voter ID',\n",
        "         'Voter9_Front.jpg' : 'Voter ID',\n",
        "         'Pratyoosh_Election1.jpg' : 'Voter ID',\n",
        "         '49_DLFront.jpg' : 'Driving Licence',\n",
        "         '13.jpg' : 'Voter ID',\n",
        "         '9.jpg' : 'Voter ID',\n",
        "         '10.jpg' : 'Voter ID',\n",
        "         '11.jpg' : 'Voter ID',\n",
        "         '14.JPG' : 'Voter ID',\n",
        "         '18.jpg' : 'Voter ID',\n",
        "         '8.jpg' : 'Voter ID',\n",
        "         '17.jpg' : 'Voter ID',\n",
        "         '15.JPG' : 'Voter ID',\n",
        "         '45.jpg' : 'Driving Licence',\n",
        "         '52.jpg' : 'Driving Licence',\n",
        "         '34.jpg' : 'Driving Licence',\n",
        "         '37.jpg' : 'Driving Licence',\n",
        "         '42.jpg' : 'Driving Licence',\n",
        "         '41.jpg' : 'Driving Licence',\n",
        "         '30.jpg' : 'Driving Licence',\n",
        "         '48.jpg' : 'Driving Licence',\n",
        "         '43.jpg' : 'Driving Licence',\n",
        "         '40.jpg' : 'Driving Licence',\n",
        "         '26.jpg' : 'Driving Licence',\n",
        "         '28.JPG' : 'Driving Licence',\n",
        "         '31.jpg' : 'Driving Licence',\n",
        "         '39.jpg' : 'Driving Licence',\n",
        "         '38.jpg' : 'Driving Licence',\n",
        "         '49.jpg' : 'Driving Licence',\n",
        "         '44.jpg' : 'Driving Licence',\n",
        "         '33.jpg' : 'Driving Licence',\n",
        "         '50.jpg' : 'Driving Licence',\n",
        "         '36.jpg' : 'Driving Licence',\n",
        "         '47.jpg' : 'Driving Licence',\n",
        "         '27.jpg' : 'Driving Licence',\n",
        "         '51.jpg' : 'Driving Licence',\n",
        "         '35.jpg' : 'Driving Licence',\n",
        "         'PAN-Card-Sample.jpg' : 'Pan Card',\n",
        "         'gas bill 1.jpg' : 'Gas Bill',\n",
        "         'gas bill 2.jpg' : 'Gas Bill',\n",
        "         'gas bill 3.jpg' : 'Gas Bill',\n",
        "         'gas bill 4.jpg' : 'Gas Bill',\n",
        "         'gas bill 5.jpg' : 'Gas Bill',\n",
        "         'gas bill 6.jpg' : 'Gas Bill',\n",
        "         'gas bill 7.jpg' : 'Gas Bill',\n",
        "         'gas bill 8.jpg' : 'Gas Bill',\n",
        "         'gas bill 9.jpg' : 'Gas Bill',\n",
        "         'gas bill 10.jpg' : 'Gas Bill',\n",
        "         'pp 1.jpg' : 'PassPort',\n",
        "         'pp 2.jpg' : 'PassPort',\n",
        "         'pp 4.jpg' : 'PassPort',\n",
        "         'pp 5.jpg' : 'PassPort',\n",
        "         'pp 7.jpg' : 'PassPort',\n",
        "         'pp 8.jpg' : 'PassPort',\n",
        "         'pp 10.jpg' : 'PassPort'\n",
        "\n",
        "        }"
      ],
      "id": "awful-college",
      "execution_count": null,
      "outputs": []
    },
    {
      "cell_type": "code",
      "metadata": {
        "id": "threaded-energy"
      },
      "source": [
        "train_df = pd.DataFrame(columns = ['img','text','label'])\n",
        "j = 0\n",
        "for k,v in zip(extract_text.keys(), label.keys()):\n",
        "    try:\n",
        "        train_df.loc[j,'label'] = label[k.split(\"\\\\\")[-1]]\n",
        "        train_df.loc[j,'img'] = k.split(\"\\\\\")[-1]\n",
        "        train_df.loc[j,'text'] = extract_text[k]\n",
        "\n",
        "        j += 1\n",
        "    except Exception as e:\n",
        "        print (e)"
      ],
      "id": "threaded-energy",
      "execution_count": null,
      "outputs": []
    },
    {
      "cell_type": "code",
      "metadata": {
        "id": "explicit-wright"
      },
      "source": [
        "for i, row in train_df.iterrows():\n",
        "    text = \"\"\n",
        "    for t in row[0]:    \n",
        "        text = text + \"\\n\" + t[0]\n",
        "    train_df.loc[i,'filtered_text'] = text"
      ],
      "id": "explicit-wright",
      "execution_count": null,
      "outputs": []
    },
    {
      "cell_type": "code",
      "metadata": {
        "colab": {
          "base_uri": "https://localhost:8080/"
        },
        "id": "upbRMXbrYQrE",
        "outputId": "f60977f0-1997-42d9-d36d-5034f6e6efee"
      },
      "source": [
        "type(extract_text)"
      ],
      "id": "upbRMXbrYQrE",
      "execution_count": null,
      "outputs": [
        {
          "data": {
            "text/plain": [
              "dict"
            ]
          },
          "execution_count": 44,
          "metadata": {
            "tags": []
          },
          "output_type": "execute_result"
        }
      ]
    },
    {
      "cell_type": "code",
      "metadata": {
        "colab": {
          "background_save": true
        },
        "id": "guided-lover",
        "outputId": "c875c74c-ac9f-4e48-efcf-8c80f5c80ded"
      },
      "source": [
        "for i in extract_text.keys():\n",
        "    text = \"\"\n",
        "    for t in row[1]:    \n",
        "        text = text + \"\\n\" + t[0]\n",
        "    extract_text = text"
      ],
      "id": "guided-lover",
      "execution_count": null,
      "outputs": [
        {
          "ename": "SyntaxError",
          "evalue": "ignored",
          "output_type": "error",
          "traceback": [
            "\u001b[0;36m  File \u001b[0;32m\"<ipython-input-50-79d29f296941>\"\u001b[0;36m, line \u001b[0;32m5\u001b[0m\n\u001b[0;31m    extract_text[] = text\u001b[0m\n\u001b[0m                 ^\u001b[0m\n\u001b[0;31mSyntaxError\u001b[0m\u001b[0;31m:\u001b[0m invalid syntax\n"
          ]
        }
      ]
    },
    {
      "cell_type": "code",
      "metadata": {
        "colab": {
          "base_uri": "https://localhost:8080/",
          "height": 120
        },
        "id": "appointed-movie",
        "outputId": "9bc13285-d545-4994-f2ef-762173011dc9"
      },
      "source": [
        "text = \"\"\n",
        "for t in result:    \n",
        "    text = text + \"\\n\" + t[0]\n",
        "text"
      ],
      "id": "appointed-movie",
      "execution_count": null,
      "outputs": [
        {
          "data": {
            "application/vnd.google.colaboratory.intrinsic+json": {
              "type": "string"
            },
            "text/plain": [
              "'\\nA\\nK\\nS\\nH\\nM\\nI\\n \\nA\\nP\\n \\nG\\nA\\nS\\n \\nA\\nG\\nE\\nN\\nC\\nY\\n\\n\\n\\n\\nH\\nE\\nR\\nY\\n \\nM\\nA\\nI\\nN\\n \\nR\\nO\\nA\\nD\\n,\\n \\nV\\nE\\nL\\nA\\nC\\nH\\nE\\nR\\nY\\n,\\n \\nC\\nH\\nE\\nN\\nN\\nA\\nI\\n \\n-\\n \\n6\\n0\\n0\\n \\n0\\n4\\n2\\n.\\n \\nP\\nh\\n \\n:\\n \\n0\\n4\\n4\\n-\\n2\\n2\\n4\\n3\\n \\n4\\n2\\n4\\n3\\n \\n/\\n \\n4\\n8\\n5\\n5\\n \\n5\\n6\\n2\\n2\\n\\n\\n\\n\\nD\\nA\\nT\\nE\\n\\n\\n\\n\\nD\\na\\nm\\nl\\ne\\nr\\n-\\nC\\no\\nd\\ns\\n \\n1\\n5\\n4\\n0\\n1\\n5\\n1\\n0\\n \\nT\\no\\nt\\na\\nl\\n \\ns\\no\\no\\nK\\nn\\ns\\n|\\n”\\n \\n|\\n \\nU\\nN\\n \\nD\\nE\\nL\\nI\\nV\\nE\\nR\\nE\\nD\\n \\nc\\na\\ns\\nt\\n \\nM\\nE\\nM\\nO\\n \\n|\\n\\n\\n\\n\\n|\\n \\nC\\nL\\nE\\nA\\nR\\nE\\nD\\n \\nu\\ne\\n \\nT\\no\\n\\n\\n\\n\\ni\\n\\n\\n\\n\\nC\\nY\\nL\\nI\\nN\\nD\\nE\\nR\\n \\nS\\nT\\nO\\nC\\nK\\n\\n\\n\\n\\nE\\nM\\nI\\n\\n\\n\\n\\ne\\ny\\n\\n\\n\\n\\nD\\nE\\nR\\n \\nS\\nT\\nO\\nC\\nK\\n\\n\\n\\n\\nR\\nE\\nG\\nU\\nL\\nA\\nT\\nO\\nR\\n \\nS\\nT\\nO\\nC\\nK\\n\\n\\n\\n\\n+\\n \\nG\\nU\\nB\\nS\\nD\\nI\\nZ\\nE\\nD\\n \\nC\\n¥\\nL\\n \\nL\\nD\\n \\n(\\nG\\nA\\nT\\nL\\n \\nC\\nT\\nC\\n]\\n\\n\\n\\n\\n1\\n4\\n2\\n \\nK\\nO\\nE\\n!\\n\\n\\n\\n\\nv\\ne\\n!\\n\\n\\n\\n\\nD\\nE\\nR\\n\\n\\n\\n\\n1\\n0\\n\\n\\n\\n\\nZ\\ni\\n\\n\\n\\n\\nR\\nE\\nG\\nU\\nL\\nA\\nT\\nO\\nR\\n \\nS\\nT\\nO\\nC\\nK\\n \\nG\\nO\\nO\\nD\\n\\n\\n\\n\\n\"\\n1\\n4\\n2\\n \\nK\\nG\\n \\nN\\nO\\nN\\n \\n-\\n \\nS\\nU\\nB\\nG\\nI\\nO\\nM\\nE\\nD\\n \\nC\\nY\\nL\\nI\\nN\\nD\\nE\\nR\\n\\n\\n\\n\\ni\\nL\\n\\n\\n\\n\\n1\\n9\\n \\nK\\nG\\n \\nE\\nM\\nP\\nT\\nY\\n \\nL\\nP\\nG\\n \\nC\\nY\\nL\\nI\\nN\\nD\\nE\\nR\\n\\n\\n\\n\\nR\\nE\\nG\\nU\\nL\\nA\\nI\\nO\\nR\\n \\nS\\n1\\n0\\nC\\nK\\n \\nD\\nF\\n\\n\\n\\n\\nc\\nr\\no\\nw\\n\\n\\n\\n\\nL\\nP\\nG\\n \\nC\\nY\\nL\\nI\\nN\\nD\\nE\\n:\\n\\n\\n\\n\\n5\\nG\\n \\nE\\nM\\nP\\nT\\nY\\n \\nI\\nP\\nG\\n \\nC\\nY\\nL\\nI\\nN\\nD\\nE\\nR\\n\\n\\n\\n\\nR\\nE\\nG\\nU\\nL\\nA\\nT\\nO\\nR\\n \\nF\\nO\\nT\\nA\\nL\\n\\n\\n\\n\\n‘\\nS\\nG\\n \\nF\\nL\\nL\\nE\\nD\\n \\nL\\nP\\nO\\n \\nC\\nY\\nL\\nN\\nO\\nE\\nR\\n \\nF\\nT\\nL\\n)\\n\\n\\n\\n\\na\\nL\\n\\n\\n\\n\\nR\\nE\\nG\\nU\\nL\\nA\\nT\\nO\\nN\\n \\n(\\nF\\nT\\nI\\n)\\n\\n\\n\\n\\nS\\nx\\n\\n\\n\\n\\n5\\n\\n\\n\\n\\nI\\nN\\nD\\nE\\nR\\n \\n(\\nR\\nE\\nL\\nY\\n\\n\\n\\n\\n~\\n—\\n_\\n\\n\\n\\n\\ns\\na\\nw\\nn\\n \\n2\\n8\\n5\\n7\\n\\n\\n\\n\\nS\\nE\\nC\\nU\\nR\\nI\\nT\\nY\\n \\nD\\nE\\nP\\nO\\nS\\nI\\nT\\n\\n\\n\\n\\ne\\nt\\n \\ne\\nt\\n \\n“\\nS\\ni\\na\\nr\\n\\n\\n\\n\\n(\\n0\\n3\\n6\\n)\\n \\n1\\n4\\n.\\n2\\n \\nK\\nG\\n \\nL\\nP\\nG\\n \\nC\\nY\\nL\\nI\\n\\n\\n\\n\\nD\\nE\\nR\\n\\n\\n\\n\\nb\\ns\\ne\\n\\n\\n\\n\\nA\\nV\\nA\\nI\\nL\\nA\\nB\\nL\\nE\\n \\nA\\nR\\nB\\n \\nP\\nR\\nO\\nD\\nU\\nC\\nT\\nS\\n\\n\\n\\n\\n(\\n0\\n4\\n7\\n)\\n \\nR\\nE\\nG\\nU\\nL\\nA\\nT\\nO\\nR\\n\\n\\n\\n\\n1\\n\\n\\n\\n\\n1\\n8\\n4\\n)\\n \\n1\\n9\\n \\nK\\nG\\n \\nL\\nP\\nG\\n \\nC\\nY\\n!\\n\\n\\n\\n\\nN\\nD\\nE\\nR\\n\\n\\n\\n\\nV\\nt\\n0\\n0\\n\\n\\n\\n\\nS\\nU\\nR\\nA\\nK\\nS\\nH\\nA\\n \\nT\\nU\\nB\\nE\\n\\n\\n\\n\\ny\\ne\\n.\\n\\n\\n\\n\\nR\\nE\\nF\\nI\\nL\\nL\\n \\nC\\no\\ns\\nt\\n\\n\\n\\n\\nL\\nI\\nG\\nH\\nT\\nE\\nR\\n\\n\\n\\n\\nA\\nD\\nV\\nA\\nN\\nT\\nA\\n\\n\\n\\n\\nt\\ne\\n\\n\\n\\n\\n:\\n\\n\\n\\n\\n2\\n4\\n2\\n \\nK\\nG\\n \\nN\\no\\nw\\n \\nS\\nU\\nB\\nB\\nD\\nI\\nF\\nE\\nD\\n \\nC\\n¥\\ne\\n.\\nC\\nO\\n \\nB\\nT\\nL\\n!\\n \\nC\\nr\\no\\n}\\n\\n\\n\\n\\nH\\nP\\n)\\n\\n\\n\\n\\n|\\n \\n#\\n4\\n2\\n \\nk\\nG\\n \\nN\\nO\\nW\\n.\\n \\ns\\nu\\nB\\ns\\nI\\nD\\ni\\nz\\ne\\n0\\n \\nC\\nY\\nL\\nI\\nN\\nD\\nE\\nR\\n\\n\\n\\n\\nw\\na\\ne\\n\\n\\n\\n\\nS\\nU\\nR\\nY\\nA\\n \\nF\\nL\\nA\\nM\\nE\\n\\n\\n\\n\\n)\\n\\n\\n\\n\\n1\\n9\\n \\nK\\nG\\n \\nF\\nI\\nL\\nL\\nE\\nG\\n \\nL\\nP\\nG\\n \\nC\\nY\\nL\\nI\\nN\\nD\\nE\\nR\\n\\n\\n\\n\\nS\\nU\\nN\\n \\nF\\nL\\nA\\nM\\nE\\n\\n\\n\\n\\n5\\nK\\nG\\n \\nF\\nI\\nL\\nL\\nE\\nD\\n \\nL\\nP\\nG\\n \\nC\\nY\\nL\\nI\\nN\\nD\\nE\\nR\\n \\n(\\nF\\nT\\nL\\n)\\n\\n\\n\\n\\n1\\n8\\nm\\n\\n\\n\\n\\nP\\nI\\nG\\nE\\nO\\nN\\n\\n\\n\\n\\nN\\nZ\\n’\\n\\n\\n\\n\\nv\\na\\ny\\n\\n\\n\\n\\nB\\nU\\nT\\nT\\nE\\nR\\nF\\nL\\nY\\n\\n\\n\\n\\na\\ne\\n.\\n\\n\\n\\n\\nE\\nK\\nG\\n \\nF\\nI\\nL\\nL\\nE\\nD\\n \\nL\\nP\\nG\\n \\nC\\nV\\nL\\nI\\nN\\nO\\nE\\nR\\n \\n(\\nA\\nF\\nL\\n)\\n\\n\\n\\n\\nH\\nI\\nD\\n \\n5\\nm\\n\\n\\n\\n\\nA\\nP\\nR\\nO\\nN\\n\\n\\n\\n\\nN\\nA\\nT\\nU\\nR\\nE\\n \\nO\\nF\\n \\nS\\nE\\nR\\nV\\nI\\nC\\nE\\nS\\n.\\n\\n\\n\\n\\nI\\nG\\nA\\nS\\n|\\n\\n\\n\\n\\nC\\nH\\nA\\nR\\nG\\nE\\nS\\n,\\n\\n\\n\\n\\nT\\nR\\nO\\nL\\nL\\nY\\n\\n\\n\\n\\n‘\\nA\\nd\\ne\\nn\\n\\n\\n\\n\\nh\\na\\nr\\ne\\n\\n\\n\\n\\nr\\ni\\nn\\ng\\n \\nL\\nP\\nG\\n \\nC\\n\\n\\n\\n\\nn\\na\\nr\\n\\n\\n\\n\\nB\\nE\\n \\nw\\no\\n\\n\\n\\n\\nC\\nO\\nO\\nK\\nE\\nR\\n.\\n\\n\\n\\n\\n3\\nu\\nr\\n\\n\\n\\n\\nw\\ni\\ne\\n \\nf\\nr\\ni\\ne\\nn\\nd\\nl\\ny\\n \\ne\\nx\\ne\\n\\n\\n\\n\\nC\\nO\\nO\\nK\\nE\\nR\\n.\\n\\n\\n\\n\\nS\\nu\\nr\\n\\n\\n\\n\\n(\\n7\\na\\na\\nr\\no\\nr\\n \\nT\\nA\\nA\\n\\n\\n\\n\\n0\\n1\\n \\n&\\n \\nD\\na\\nm\\no\\nn\\na\\nt\\nr\\na\\nt\\ni\\no\\nn\\n \\nC\\nh\\na\\nr\\ng\\ne\\n\\n\\n\\n\\nf\\no\\nr\\nn\\nc\\nr\\no\\nB\\ne\\n \\n|\\n \\nv\\n8\\n\\n\\n\\n\\no\\n\\n\\n\\n\\nC\\nO\\nO\\nK\\nE\\nR\\n,\\n\\n\\n\\n\\n7\\n.\\n5\\nL\\n\\n\\n\\n\\nM\\na\\nb\\ni\\ne\\n \\n \\nm\\na\\na\\ng\\nt\\n \\n0\\n6\\n6\\n0\\n0\\n\\n\\n\\n\\nB\\ne\\ne\\nn\\n\\n\\n\\n\\nt\\no\\nm\\na\\nr\\n \\nC\\na\\nr\\nd\\n \\n{\\na\\nc\\nc\\n}\\n\\n\\n\\n\\n3\\n9\\n \\n2\\n0\\n\\n\\n\\n\\nC\\nO\\nO\\nK\\nE\\nR\\n.\\n\\n\\n\\n\\nf\\n\\n\\n\\n\\ne\\na\\ne\\n\\n\\n\\n\\nI\\nF\\n\\n\\n\\n\\nH\\na\\nt\\n \\nP\\na\\nt\\ne\\n \\ni\\nn\\na\\np\\ne\\nc\\nt\\ni\\no\\nn\\n\\n\\n\\n\\n1\\n2\\nh\\n\\n\\n\\n\\nf\\n\\n\\n\\n\\n-\\n\\n\\n\\n\\na\\n\\n\\n\\n\\nT\\nT\\n\\n\\n\\n\\nG\\nI\\nF\\nT\\n \\nB\\no\\nx\\n\\n\\n\\n\\nr\\n\\n\\n\\n\\nc\\nn\\n\\n\\n\\n\\no\\nh\\n\\n\\n\\x0c'"
            ]
          },
          "execution_count": 46,
          "metadata": {
            "tags": []
          },
          "output_type": "execute_result"
        }
      ]
    },
    {
      "cell_type": "markdown",
      "metadata": {
        "id": "stock-auditor"
      },
      "source": [
        "## Text Processing"
      ],
      "id": "stock-auditor"
    },
    {
      "cell_type": "code",
      "metadata": {
        "id": "prerequisite-artist"
      },
      "source": [
        "import re"
      ],
      "id": "prerequisite-artist",
      "execution_count": null,
      "outputs": []
    },
    {
      "cell_type": "code",
      "metadata": {
        "id": "shared-service"
      },
      "source": [
        "m = iter(zip(train_df['filtered_text'].values, train_df['img'].values))"
      ],
      "id": "shared-service",
      "execution_count": null,
      "outputs": []
    },
    {
      "cell_type": "code",
      "metadata": {
        "colab": {
          "base_uri": "https://localhost:8080/",
          "height": 733
        },
        "id": "excessive-continent",
        "outputId": "4f263d9b-a36b-48cd-ddcb-de7ec634e71c"
      },
      "source": [
        "ss = ['dataset\\\\l_pancard-farzi-1499313521_835x547.jpg_thump.jpg',\n",
        " 'dataset\\\\pan-card-service-352.jpg',\n",
        " 'dataset\\\\PAN-CARD.jpg',\n",
        " 'dataset\\\\pan.jpg',\n",
        " 'dataset\\\\Sample-PAN-Card-Barack-Obama.jpg',\n",
        " 'dataset\\\\wealth-space-velacheri-chennai-pan-card-consultants-2cofbuh-250.jpg']\n",
        "remove = []\n",
        "for keys in extract_text.keys():\n",
        "    if keys in ss:\n",
        "        pass\n",
        "    else:\n",
        "        remove.append(keys)\n",
        "        \n",
        "for k in remove:\n",
        "    extract_text.pop(k)"
      ],
      "id": "excessive-continent",
      "execution_count": null,
      "outputs": [
        {
          "name": "stderr",
          "output_type": "stream",
          "text": [
            "ERROR:root:Internal Python error in the inspect module.\n",
            "Below is the traceback from this internal error.\n",
            "\n"
          ]
        },
        {
          "name": "stdout",
          "output_type": "stream",
          "text": [
            "Traceback (most recent call last):\n",
            "  File \"/usr/local/lib/python3.6/dist-packages/IPython/core/interactiveshell.py\", line 2882, in run_code\n",
            "    exec(code_obj, self.user_global_ns, self.user_ns)\n",
            "  File \"<ipython-input-48-f123f6682227>\", line 8, in <module>\n",
            "    for keys in extract_text.keys():\n",
            "AttributeError: 'str' object has no attribute 'keys'\n",
            "\n",
            "During handling of the above exception, another exception occurred:\n",
            "\n",
            "Traceback (most recent call last):\n",
            "  File \"/usr/local/lib/python3.6/dist-packages/IPython/core/interactiveshell.py\", line 1823, in showtraceback\n",
            "    stb = value._render_traceback_()\n",
            "AttributeError: 'AttributeError' object has no attribute '_render_traceback_'\n",
            "\n",
            "During handling of the above exception, another exception occurred:\n",
            "\n",
            "Traceback (most recent call last):\n",
            "  File \"/usr/local/lib/python3.6/dist-packages/IPython/core/ultratb.py\", line 1132, in get_records\n",
            "    return _fixed_getinnerframes(etb, number_of_lines_of_context, tb_offset)\n",
            "  File \"/usr/local/lib/python3.6/dist-packages/IPython/core/ultratb.py\", line 313, in wrapped\n",
            "    return f(*args, **kwargs)\n",
            "  File \"/usr/local/lib/python3.6/dist-packages/IPython/core/ultratb.py\", line 358, in _fixed_getinnerframes\n",
            "    records = fix_frame_records_filenames(inspect.getinnerframes(etb, context))\n",
            "  File \"/usr/lib/python3.6/inspect.py\", line 1490, in getinnerframes\n",
            "    frameinfo = (tb.tb_frame,) + getframeinfo(tb, context)\n",
            "  File \"/usr/lib/python3.6/inspect.py\", line 1448, in getframeinfo\n",
            "    filename = getsourcefile(frame) or getfile(frame)\n",
            "  File \"/usr/lib/python3.6/inspect.py\", line 696, in getsourcefile\n",
            "    if getattr(getmodule(object, filename), '__loader__', None) is not None:\n",
            "  File \"/usr/lib/python3.6/inspect.py\", line 725, in getmodule\n",
            "    file = getabsfile(object, _filename)\n",
            "  File \"/usr/lib/python3.6/inspect.py\", line 709, in getabsfile\n",
            "    return os.path.normcase(os.path.abspath(_filename))\n",
            "  File \"/usr/lib/python3.6/posixpath.py\", line 383, in abspath\n",
            "    cwd = os.getcwd()\n",
            "FileNotFoundError: [Errno 2] No such file or directory\n"
          ]
        },
        {
          "ename": "AttributeError",
          "evalue": "ignored",
          "output_type": "error",
          "traceback": [
            "\u001b[0;31m---------------------------------------------------------------------------\u001b[0m"
          ]
        }
      ]
    },
    {
      "cell_type": "code",
      "metadata": {
        "id": "recovered-rental"
      },
      "source": [
        "result = extract_text[k]\n",
        "# m = iter(extract_text.keys())\n"
      ],
      "id": "recovered-rental",
      "execution_count": null,
      "outputs": []
    },
    {
      "cell_type": "code",
      "metadata": {
        "id": "diverse-award"
      },
      "source": [
        "# voterid = '(electo|lection|commis|commisiom|election|electioncommission)$'\n",
        "# test = 'Electors Name: Sonal Suryakant Khot'.lower().split()[0]\n",
        "# re.search(voterid, test).group(1)"
      ],
      "id": "diverse-award",
      "execution_count": null,
      "outputs": []
    },
    {
      "cell_type": "code",
      "metadata": {
        "id": "_Zv00IxqaMR0"
      },
      "source": [
        "import re"
      ],
      "id": "_Zv00IxqaMR0",
      "execution_count": null,
      "outputs": []
    },
    {
      "cell_type": "code",
      "metadata": {
        "id": "portuguese-disability"
      },
      "source": [
        "def detect_document(word):\n",
        "    \n",
        "    voterid = '(lllciioncommissionov|elect|lection|commis|commisiom|election|electioncommission)$'\n",
        "    \n",
        "    if re.search(voterid, word.lower().split()[0]):\n",
        "        print (word.lower())\n",
        "        return 'Voter ID'\n",
        "    elif 'aadhar' in word.lower():\n",
        "        return 'Aadhar'\n",
        "    elif ('driving' in word.lower() or ('transport' in word.lower()) \n",
        "         or ('veihcles' in word.lower()) or ('motor' in word.lower())\n",
        "         or ('valid' in word.lower()) or ('vald' in word.lower())\n",
        "         or ('licence' in word.lower())):\n",
        "        return 'Driving License'\n",
        "    else:\n",
        "        return None"
      ],
      "id": "portuguese-disability",
      "execution_count": null,
      "outputs": []
    },
    {
      "cell_type": "code",
      "metadata": {
        "id": "wanted-manhattan"
      },
      "source": [
        "def clean_text(text):\n",
        "    text = text.replace(\"#\",\"H\")\n",
        "    \n",
        "    return text"
      ],
      "id": "wanted-manhattan",
      "execution_count": null,
      "outputs": []
    },
    {
      "cell_type": "code",
      "metadata": {
        "id": "cleared-uncle",
        "outputId": "c6a149c8-ddb9-4624-fd0e-ea2d01b6def8"
      },
      "source": [
        "founda = 0\n",
        "foundn = 0\n",
        "prediction = []\n",
        "for word in result.split(\"\\n\"):\n",
        "#     print (word)\n",
        "    word = clean_text(word)\n",
        "    \n",
        "     ### if the word is alpha\n",
        "    if word.replace(\" \",\"\").isalpha() and founda == 0 :\n",
        "        print (\"1===============>\", word.lower())\n",
        "        if detect_document(word):\n",
        "            prediction = prediction + [detect_document(word)]\n",
        "            founda = 1\n",
        "\n",
        "    elif word.replace(\" \",\"\").isdigit() and foundn == 0:\n",
        "        word = word.replace(\" \",\"\")\n",
        "        print (\"NUmmmmmmmmm\",word)\n",
        "        if 10 < len(word) <= 12:\n",
        "            prediction = prediction + [\"Aadhar\"]\n",
        "            \n",
        "        elif len(word) > 14 :\n",
        "            prediction = prediction + [\"Driving License\"]\n",
        "    else:\n",
        "        pass\n",
        "#         print (word)\n",
        "print (\"the card is \", prediction)"
      ],
      "id": "cleared-uncle",
      "execution_count": null,
      "outputs": [
        {
          "name": "stdout",
          "output_type": "stream",
          "text": [
            "1===============> election commission of india\n",
            "election commission of india\n",
            "election commission of india\n",
            "the card is  ['Voter ID']\n"
          ]
        }
      ]
    },
    {
      "cell_type": "code",
      "metadata": {
        "id": "controlling-prime",
        "outputId": "157f1531-806d-4e4a-cd9e-314ca6b1dac2"
      },
      "source": [
        "print (extract_text['data\\\\10.jpg'])"
      ],
      "id": "controlling-prime",
      "execution_count": null,
      "outputs": [
        {
          "name": "stdout",
          "output_type": "stream",
          "text": [
            "ELECTION COMMISSION OF INDIA\n",
            "\n",
            "IDENTITY CARD\n",
            "\n",
            "Ra\n",
            "\n",
            "arm\n",
            "\n",
            "Wart TF\n",
            "\n",
            "MzH2380426\n",
            "\n",
            "at\n",
            "\n",
            "~\n",
            "\n",
            "Recor Name\n",
            "\n",
            "fretew wt en: eer\n",
            "\n",
            "Fatece Nae\n",
            "\n",
            "BRL BHUSHAN.\n",
            "\n",
            "fem 332\n",
            "\n",
            "rr\n",
            "\n",
            "sex) en\n",
            "\n",
            "FEMALE! ef)\n",
            "\n",
            "pavesén (120-38 Yeon\n",
            "\f\n"
          ]
        }
      ]
    },
    {
      "cell_type": "code",
      "metadata": {
        "id": "biological-legislature"
      },
      "source": [
        ""
      ],
      "id": "biological-legislature",
      "execution_count": null,
      "outputs": []
    }
  ]
}